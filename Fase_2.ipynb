{
 "cells": [
  {
   "cell_type": "markdown",
   "id": "3b144642",
   "metadata": {},
   "source": [
    "# Descarga de excels"
   ]
  },
  {
   "cell_type": "code",
   "execution_count": null,
   "id": "d6909bc7",
   "metadata": {},
   "outputs": [],
   "source": [
    "from datetime import datetime,timedelta\n",
    "Inicio_programa=datetime.now()"
   ]
  },
  {
   "cell_type": "markdown",
   "id": "2aea3c5a",
   "metadata": {},
   "source": [
    "# Importo los paquetes"
   ]
  },
  {
   "cell_type": "code",
   "execution_count": null,
   "id": "e0c506d7",
   "metadata": {},
   "outputs": [],
   "source": [
    "import os\n",
    "import tabula\n",
    "import re\n",
    "from openpyxl import Workbook,load_workbook\n",
    "import pandas as pd\n",
    "import shutil\n",
    "from natsort import natsorted"
   ]
  },
  {
   "cell_type": "code",
   "execution_count": null,
   "id": "9101d23c",
   "metadata": {},
   "outputs": [],
   "source": [
    "path_local=\"/home/rodrigo/Scrapper_Sueldos_Municipales\""
   ]
  },
  {
   "cell_type": "markdown",
   "id": "39446db1",
   "metadata": {},
   "source": [
    "# Verificación de carpetas"
   ]
  },
  {
   "cell_type": "code",
   "execution_count": null,
   "id": "8201f282",
   "metadata": {},
   "outputs": [],
   "source": [
    "path_folder_pdf=path_local+\"/Gasto_Publico_Argentino_files/Salarios_Rosario/pdf\"\n",
    "lista_folder_pdf=natsorted(os.listdir(path_folder_pdf))\n",
    "for i in lista_folder_pdf:\n",
    "    if re.search(\"Sueldos\",i) is None:\n",
    "        lista_folder_pdf.remove(i)"
   ]
  },
  {
   "cell_type": "code",
   "execution_count": null,
   "id": "cc17d9f1",
   "metadata": {},
   "outputs": [],
   "source": [
    "lista_folder_pdf"
   ]
  },
  {
   "cell_type": "code",
   "execution_count": null,
   "id": "d0d0584a",
   "metadata": {},
   "outputs": [],
   "source": [
    "index_carpeta_a_modificar=-1"
   ]
  },
  {
   "cell_type": "code",
   "execution_count": null,
   "id": "deb6f27c",
   "metadata": {},
   "outputs": [],
   "source": [
    "folder_pdf_a_convertir=lista_folder_pdf[index_carpeta_a_modificar]"
   ]
  },
  {
   "cell_type": "markdown",
   "id": "e4a40866",
   "metadata": {},
   "source": [
    "# Crea la carpeta donde se van a guardar los excel en crudo"
   ]
  },
  {
   "cell_type": "code",
   "execution_count": null,
   "id": "fa78ff2c",
   "metadata": {},
   "outputs": [],
   "source": [
    "path_folder_pdf_a_convertir=path_local+\"/Gasto_Publico_Argentino_files/Salarios_Rosario/pdf/\"+folder_pdf_a_convertir\n",
    "Lista_pdf_nuevos=natsorted(os.listdir(path_folder_pdf_a_convertir))\n",
    "\n",
    "Lista_nombres_secretarias=[re.sub(\"\\.pdf\",\"\",i) for i in Lista_pdf_nuevos]\n",
    "\n",
    "\n",
    "try :\n",
    "    os.mkdir(path_local+\"/Gasto_Publico_Argentino_files/Salarios_Rosario/XLSX/Excels_proceso_limpieza\")\n",
    "    for secretaria in Lista_nombres_secretarias:\n",
    "        os.mkdir(path_local+\"/Gasto_Publico_Argentino_files/Salarios_Rosario/XLSX/Excels_proceso_limpieza\"+\"/\"+secretaria)\n",
    "except :\n",
    "    pass\n",
    "\n",
    "for ubicacion_secretaria,nombre_secretaria in enumerate(Lista_pdf_nuevos):\n",
    "    variable = True\n",
    "    n=0\n",
    "    df = tabula.read_pdf(path_folder_pdf_a_convertir+\"/\"+nombre_secretaria, pages = \"all\")\n",
    "    while (variable == True):\n",
    "        try :\n",
    "            df[n].to_excel(path_local+\"/Gasto_Publico_Argentino_files/Salarios_Rosario/XLSX/Excels_proceso_limpieza\"+\"/\"+Lista_nombres_secretarias[ubicacion_secretaria]+\"/\"+Lista_nombres_secretarias[ubicacion_secretaria]+\"_imperfecto_\"+str(n)+\".xlsx\")\n",
    "            n+=1\n",
    "        except :\n",
    "            variable=False"
   ]
  },
  {
   "cell_type": "code",
   "execution_count": null,
   "id": "8ba57109",
   "metadata": {},
   "outputs": [],
   "source": [
    "carpeta_especifica=re.sub(\"_Sueldos\",\"\",folder_pdf_a_convertir)\n",
    "carpeta_especifica"
   ]
  },
  {
   "cell_type": "markdown",
   "id": "8f3c56d6",
   "metadata": {},
   "source": [
    "# Acomodo de excel sucios"
   ]
  },
  {
   "cell_type": "code",
   "execution_count": null,
   "id": "b2608c37",
   "metadata": {},
   "outputs": [],
   "source": [
    "# Estos 2 nombres no me gustan\n",
    "path_carpetas_excels_sucios=path_local+\"/Gasto_Publico_Argentino_files/Salarios_Rosario/XLSX/Excels_proceso_limpieza\"\n",
    "carpetas_excels_sucios=natsorted(os.listdir(path_carpetas_excels_sucios))\n",
    "\n",
    "for carpeta_secretaria in carpetas_excels_sucios:\n",
    "    path_excels_sin_modificar= path_carpetas_excels_sucios+\"/\"+ carpeta_secretaria\n",
    "    archivos_pdf=natsorted(os.listdir(path_excels_sin_modificar))\n",
    "    n=0\n",
    "    for nombre_archivo_pdf in archivos_pdf:\n",
    "        wb = load_workbook(filename=path_excels_sin_modificar+\"/\"+nombre_archivo_pdf)\n",
    "        sheet= wb.active\n",
    "        sheet.delete_cols(1)\n",
    "        celda_1=sheet.cell(row=1, column=1).value\n",
    "        celda_2=sheet.cell(row=1, column=2).value\n",
    "        if re.search(\"[a-z]\",celda_1) is not None :\n",
    "            os.remove(path_excels_sin_modificar+\"/\"+nombre_archivo_pdf)\n",
    "            n+=1\n",
    "        elif re.search(\"[0-9]\",celda_1) is not None and re.search(\"Unnamed: 0\",celda_2) is not None:\n",
    "            inicio=re.search(\"[0-9]\",celda_1).span()[0]\n",
    "            nombre=celda_1[:inicio]\n",
    "            numero=celda_1[inicio:]\n",
    "            sheet[\"A1\"] = nombre\n",
    "            sheet[\"B1\"] = numero\n",
    "            sheet.insert_rows(1)\n",
    "            sheet[\"A1\"],sheet[\"B1\"],sheet[\"C1\"],sheet[\"D1\"],sheet[\"E1\"],sheet[\"F1\"]=\"apellido_y_nombre\",\"sueldo_bruto\",\"sueldo_neto\",\"costo_laboral\",\"planta\",\"funcion\"\n",
    "            wb.save(filename=path_excels_sin_modificar+\"/\"+nombre_archivo_pdf)\n",
    "            os.rename(path_excels_sin_modificar+\"/\"+nombre_archivo_pdf , path_excels_sin_modificar+\"/\"+carpeta_secretaria+\"_perfecto_\"+str(n)+\".xlsx\")\n",
    "            n+=1\n",
    "        else :\n",
    "            sheet.insert_rows(1)\n",
    "            sheet[\"A1\"],sheet[\"B1\"],sheet[\"C1\"],sheet[\"D1\"],sheet[\"E1\"],sheet[\"F1\"]=\"apellido_y_nombre\",\"sueldo_bruto\",\"sueldo_neto\",\"costo_laboral\",\"planta\",\"funcion\"\n",
    "            wb.save(filename=path_excels_sin_modificar+\"/\"+nombre_archivo_pdf)\n",
    "            os.rename(path_excels_sin_modificar+\"/\"+nombre_archivo_pdf,path_excels_sin_modificar+\"/\"+carpeta_secretaria+\"_perfecto_\"+str(n)+\".xlsx\")\n",
    "            n+=1"
   ]
  },
  {
   "cell_type": "markdown",
   "id": "40c8c05c",
   "metadata": {},
   "source": [
    "# Crea la carpeta donde se almacenan los excel"
   ]
  },
  {
   "cell_type": "code",
   "execution_count": null,
   "id": "60a16fc1",
   "metadata": {},
   "outputs": [],
   "source": [
    "path_carpeta_sueldos_nuevos=path_local+\"/Gasto_Publico_Argentino_files/Salarios_Rosario/XLSX/\"+carpeta_especifica+\"_Sueldos\"\n",
    "try:\n",
    "    os.mkdir(path_carpeta_sueldos_nuevos)\n",
    "except:\n",
    "    pass\n",
    "\n",
    "nombres_secciones_secretarias=natsorted(os.listdir(path_local+\"/Gasto_Publico_Argentino_files/Salarios_Rosario/secciones\"))\n",
    "#print(nombres_secciones_secretarias)\n",
    "for secretaria in nombres_secciones_secretarias:\n",
    "    try:\n",
    "        secretaria_sin_extension=re.sub(\".txt\",\"\",secretaria)\n",
    "        os.mkdir(os.path.join(path_carpeta_sueldos_nuevos,secretaria_sin_extension))\n",
    "    except:\n",
    "        pass\n",
    "    path_secretarias=os.path.join(path_local+\"/Gasto_Publico_Argentino_files/Salarios_Rosario/secciones\",secretaria)\n",
    "    with open(path_secretarias,\"r\", encoding='utf8') as f:\n",
    "        secciones=f.readlines()\n",
    "    for seccion in secciones:\n",
    "        try:\n",
    "            seccion_sin_extension=re.sub(\".txt\",\"\",seccion)\n",
    "            os.mkdir(os.path.join(os.path.join(path_carpeta_sueldos_nuevos,secretaria_sin_extension),seccion_sin_extension))\n",
    "        except Exception as e:\n",
    "            print(e)"
   ]
  },
  {
   "cell_type": "markdown",
   "id": "ce38c93c",
   "metadata": {},
   "source": [
    "# Re-acomodo los excel en cada subcarpeta"
   ]
  },
  {
   "cell_type": "code",
   "execution_count": null,
   "id": "d1d6ec66",
   "metadata": {},
   "outputs": [],
   "source": [
    "lista_secretarias_sin_excepciones=[\"salario_ambiente\",\n",
    "           \"salario_control\",\n",
    "           \"salario_deporte_turismo\",\n",
    "           \"salario_hacienda\",\n",
    "           \"salario_ilar\",\n",
    "           \"salario_modernizacion\",\n",
    "           \"salario_movilidad\",\n",
    "           \"salario_obras\",\n",
    "           \"salario_salud\",\n",
    "           \"salario_spv\"]\n",
    "\n",
    "for secretaria in lista_secretarias_sin_excepciones:\n",
    "    path_limpieza_secretaria=path_local+\"/Gasto_Publico_Argentino_files/Salarios_Rosario/XLSX/Excels_proceso_limpieza/\"+secretaria\n",
    "    nombre_ultimo_archivo_secretaria=re.sub(\".xlsx\",\"\",natsorted(os.listdir(path_limpieza_secretaria))[-1])\n",
    "    lista_valores=[*range(int(re.findall(r'\\d+',nombre_ultimo_archivo_secretaria)[0])+1)]\n",
    "    path_secretaria=path_local+\"/Gasto_Publico_Argentino_files/Salarios_Rosario/XLSX/\"+carpeta_especifica+\"_Sueldos/\"+secretaria\n",
    "\n",
    "    lista_secretaria=natsorted(os.listdir(path_secretaria))\n",
    "\n",
    "    parametro_de_referencia=0\n",
    "    numero_archivo=0\n",
    "    for archivo_para_localizar in natsorted(os.listdir(path_limpieza_secretaria)):\n",
    "        archivo_para_extraer_numero=re.sub(\".xlsx\",\"\",archivo_para_localizar)\n",
    "        numero=re.search(\"[0-999]\",archivo_para_extraer_numero)\n",
    "        inicio_del_numero=numero.span()[0]\n",
    "        numero_extraido=int(archivo_para_extraer_numero[inicio_del_numero:])\n",
    "        if numero_extraido == lista_valores[parametro_de_referencia]:\n",
    "            shutil.move(os.path.join(path_limpieza_secretaria,archivo_para_localizar),os.path.join(path_local+\"/Gasto_Publico_Argentino_files/Salarios_Rosario/carpeta_prueba\",archivo_para_localizar))\n",
    "        else:\n",
    "            for k in natsorted(os.listdir(path_local+\"/Gasto_Publico_Argentino_files/Salarios_Rosario/carpeta_prueba\")):\n",
    "                shutil.move(os.path.join(path_local+\"/Gasto_Publico_Argentino_files/Salarios_Rosario/carpeta_prueba\",k),os.path.join(path_secretaria,lista_secretaria[numero_archivo]))\n",
    "            numero_archivo+=1\n",
    "\n",
    "            #print(\"Aca deberia ir una funcion que mande todos los excel recogidos dentro de la carpeta\\n\")\n",
    "\n",
    "            shutil.move(os.path.join(path_limpieza_secretaria,archivo_para_localizar),os.path.join(path_local+\"/Gasto_Publico_Argentino_files/Salarios_Rosario/carpeta_prueba\",archivo_para_localizar))\n",
    "\n",
    "            parametro_de_referencia+=1\n",
    "        parametro_de_referencia+=1\n",
    "\n",
    "    lista_ultimos_archivos=natsorted(os.listdir(path_local+\"/Gasto_Publico_Argentino_files/Salarios_Rosario/carpeta_prueba\"))\n",
    "    for archivo in lista_ultimos_archivos:\n",
    "        shutil.move(os.path.join(path_local+\"/Gasto_Publico_Argentino_files/Salarios_Rosario/carpeta_prueba\",archivo),os.path.join(path_secretaria,lista_secretaria[-1]))"
   ]
  },
  {
   "cell_type": "markdown",
   "id": "502f05f4",
   "metadata": {},
   "source": [
    "# Manejo de excepciones"
   ]
  },
  {
   "cell_type": "markdown",
   "id": "401e7d46",
   "metadata": {},
   "source": [
    "# Salario Cultura"
   ]
  },
  {
   "cell_type": "code",
   "execution_count": null,
   "id": "a0979105",
   "metadata": {},
   "outputs": [],
   "source": [
    "path_limpieza_secretaria=path_local+\"/Gasto_Publico_Argentino_files/Salarios_Rosario/XLSX/Excels_proceso_limpieza/salario_cultura\"\n",
    "\n",
    "path_secretaria=path_local+\"/Gasto_Publico_Argentino_files/Salarios_Rosario/XLSX/\"+carpeta_especifica+\"_Sueldos/salario_cultura\"\n",
    "\n",
    "lista_secretaria=natsorted(os.listdir(path_secretaria))\n",
    "\n",
    "shutil.move(os.path.join(path_limpieza_secretaria,\"salario_cultura_perfecto_0.xlsx\"),os.path.join(os.path.join(path_secretaria,lista_secretaria[0]),\"salario_cultura_perfecto_0.xlsx\"))\n",
    "\n",
    "nombre_ultimo_archivo_secretaria=re.sub(\".xlsx\",\"\",natsorted(os.listdir(path_limpieza_secretaria))[-1])\n",
    "lista_valores=[*range(1,int(re.findall(r'\\d+',nombre_ultimo_archivo_secretaria)[0])+1)]\n",
    "\n",
    "parametro_de_referencia=0\n",
    "numero_archivo=1\n",
    "for archivo_para_localizar in natsorted(os.listdir(path_limpieza_secretaria)):\n",
    "    archivo_para_extraer_numero=re.sub(\".xlsx\",\"\",archivo_para_localizar)\n",
    "    numero=re.search(\"[0-999]\",archivo_para_extraer_numero)\n",
    "    inicio_del_numero=numero.span()[0]\n",
    "    numero_extraido=int(archivo_para_extraer_numero[inicio_del_numero:])\n",
    "    if numero_extraido == lista_valores[parametro_de_referencia]:\n",
    "        shutil.move(os.path.join(path_limpieza_secretaria,archivo_para_localizar),os.path.join(path_local+\"/Gasto_Publico_Argentino_files/Salarios_Rosario/carpeta_prueba\",archivo_para_localizar))\n",
    "    else:\n",
    "        for k in natsorted(os.listdir(path_local+\"/Gasto_Publico_Argentino_files/Salarios_Rosario/carpeta_prueba\")):\n",
    "            shutil.move(os.path.join(path_local+\"/Gasto_Publico_Argentino_files/Salarios_Rosario/carpeta_prueba\",k),os.path.join(path_secretaria,lista_secretaria[numero_archivo]))\n",
    "        numero_archivo+=1\n",
    "\n",
    "        #print(\"Aca deberia ir una funcion que mande todos los excel recogidos dentro de la carpeta\\n\")\n",
    "\n",
    "        shutil.move(os.path.join(path_limpieza_secretaria,archivo_para_localizar),os.path.join(path_local+\"/Gasto_Publico_Argentino_files/Salarios_Rosario/carpeta_prueba\",archivo_para_localizar))\n",
    "\n",
    "        parametro_de_referencia+=1\n",
    "    parametro_de_referencia+=1\n",
    "\n",
    "#try:\n",
    "#    lista_ultimos_archivos=natsorted(os.listdir(path_local+\"/Gasto_Publico_Argentino_files/Salarios_Rosario/carpeta_prueba\"))\n",
    "#    for archivo in lista_ultimos_archivos:\n",
    "#        shutil.move(os.path.join(path_local+\"/Gasto_Publico_Argentino_files/Salarios_Rosario/carpeta_prueba\",archivo),os.path.join(path_secretaria,lista_secretaria[-1]))\n",
    "#except:\n",
    "#    pass\n",
    "\n",
    "# Para el caso 2021_01\n",
    "\n",
    "#shutil.move(path_local+\"/Gasto_Publico_Argentino_files/Salarios_Rosario/carpeta_prueba/salario_cultura_perfecto_92.xlsx\",os.path.join(path_local+\"/Gasto_Publico_Argentino_files/Salarios_Rosario/XLSX/\"+carpeta_especifica+\"_Sueldos/salario_cultura/40_TEATRO_LA_COMEDIA\",\"salario_cultura_perfecto_92.xlsx\"))\n",
    "\n",
    "#try:\n",
    "#    lista_ultimos_archivos=natsorted(os.listdir(path_local+\"/Gasto_Publico_Argentino_files/Salarios_Rosario/carpeta_prueba\"))\n",
    "#    for archivo in lista_ultimos_archivos:\n",
    "#        shutil.move(os.path.join(path_local+\"/Gasto_Publico_Argentino_files/Salarios_Rosario/carpeta_prueba\",archivo),os.path.join(path_secretaria,lista_secretaria[-2]))\n",
    "#except:\n",
    "#    pass\n",
    "\n",
    "\n",
    "\n",
    "# Para el caso 2021_04\n",
    "\n",
    "shutil.move(path_local+\"/Gasto_Publico_Argentino_files/Salarios_Rosario/carpeta_prueba/salario_cultura_perfecto_95.xlsx\",os.path.join(path_local+\"/Gasto_Publico_Argentino_files/Salarios_Rosario/XLSX/\"+carpeta_especifica+\"_Sueldos/salario_cultura/\"+lista_secretaria[-1],\"salario_cultura_perfecto_95.xlsx\"))\n",
    "\n",
    "try:\n",
    "    lista_ultimos_archivos=natsorted(os.listdir(path_local+\"/Gasto_Publico_Argentino_files/Salarios_Rosario/carpeta_prueba\"))\n",
    "    for archivo in lista_ultimos_archivos:\n",
    "        shutil.move(os.path.join(path_local+\"/Gasto_Publico_Argentino_files/Salarios_Rosario/carpeta_prueba\",archivo),os.path.join(path_secretaria,lista_secretaria[-2]))\n",
    "except:\n",
    "    pass"
   ]
  },
  {
   "cell_type": "markdown",
   "id": "20095a44",
   "metadata": {},
   "source": [
    "# Salario Desarrollo Economico"
   ]
  },
  {
   "cell_type": "code",
   "execution_count": null,
   "id": "0a0568fc",
   "metadata": {},
   "outputs": [],
   "source": [
    "path_limpieza_secretaria=path_local+\"/Gasto_Publico_Argentino_files/Salarios_Rosario/XLSX/Excels_proceso_limpieza/salario_desarrollo_economico\"\n",
    "\n",
    "path_secretaria=path_local+\"/Gasto_Publico_Argentino_files/Salarios_Rosario/XLSX/\"+carpeta_especifica+\"_Sueldos/salario_desarrollo_economico\"\n",
    "\n",
    "lista_secretaria=natsorted(os.listdir(path_secretaria))\n",
    "\n",
    "\n",
    "shutil.move(os.path.join(path_limpieza_secretaria,\"salario_desarrollo_economico_perfecto_0.xlsx\"),os.path.join(os.path.join(path_secretaria,lista_secretaria[0]),\"salario_desarrollo_economico_perfecto_0.xlsx\"))\n",
    "shutil.move(os.path.join(path_limpieza_secretaria,\"salario_desarrollo_economico_perfecto_1.xlsx\"),os.path.join(os.path.join(path_secretaria,lista_secretaria[1]),\"salario_desarrollo_economico_perfecto_1.xlsx\"))\n",
    "\n",
    "nombre_ultimo_archivo_secretaria=re.sub(\".xlsx\",\"\",natsorted(os.listdir(path_limpieza_secretaria))[-1])\n",
    "lista_valores=[*range(2,int(re.findall(r'\\d+',nombre_ultimo_archivo_secretaria)[0])+1)]\n",
    "\n",
    "parametro_de_referencia=0\n",
    "numero_archivo=1\n",
    "for archivo_para_localizar in natsorted(os.listdir(path_limpieza_secretaria)):\n",
    "    archivo_para_extraer_numero=re.sub(\".xlsx\",\"\",archivo_para_localizar)\n",
    "    numero=re.search(\"[0-999]\",archivo_para_extraer_numero)\n",
    "    inicio_del_numero=numero.span()[0]\n",
    "    numero_extraido=int(archivo_para_extraer_numero[inicio_del_numero:])\n",
    "    if numero_extraido == lista_valores[parametro_de_referencia]:\n",
    "        shutil.move(os.path.join(path_limpieza_secretaria,archivo_para_localizar),os.path.join(path_local+\"/Gasto_Publico_Argentino_files/Salarios_Rosario/carpeta_prueba\",archivo_para_localizar))\n",
    "    else:\n",
    "        for k in natsorted(os.listdir(path_local+\"/Gasto_Publico_Argentino_files/Salarios_Rosario/carpeta_prueba\")):\n",
    "            shutil.move(os.path.join(path_local+\"/Gasto_Publico_Argentino_files/Salarios_Rosario/carpeta_prueba\",k),os.path.join(path_secretaria,lista_secretaria[numero_archivo]))\n",
    "        numero_archivo+=1\n",
    "\n",
    "        #print(\"Aca deberia ir una funcion que mande todos los excel recogidos dentro de la carpeta\\n\")\n",
    "\n",
    "        shutil.move(os.path.join(path_limpieza_secretaria,archivo_para_localizar),os.path.join(path_local+\"/Gasto_Publico_Argentino_files/Salarios_Rosario/carpeta_prueba\",archivo_para_localizar))\n",
    "\n",
    "        parametro_de_referencia+=1\n",
    "    parametro_de_referencia+=1\n",
    "\n",
    "try:\n",
    "    lista_ultimos_archivos=natsorted(os.listdir(path_local+\"/Gasto_Publico_Argentino_files/Salarios_Rosario/carpeta_prueba\"))\n",
    "    for archivo in lista_ultimos_archivos:\n",
    "        shutil.move(os.path.join(path_local+\"/Gasto_Publico_Argentino_files/Salarios_Rosario/carpeta_prueba\",archivo),os.path.join(path_secretaria,lista_secretaria[-1]))\n",
    "except:\n",
    "    pass"
   ]
  },
  {
   "cell_type": "markdown",
   "id": "59f6166c",
   "metadata": {},
   "source": [
    "# Salario desarrollo humano"
   ]
  },
  {
   "cell_type": "code",
   "execution_count": null,
   "id": "3b78f954",
   "metadata": {},
   "outputs": [],
   "source": [
    "path_limpieza_secretaria=path_local+\"/Gasto_Publico_Argentino_files/Salarios_Rosario/XLSX/Excels_proceso_limpieza/salario_desarrollo_humano\"\n",
    "\n",
    "path_secretaria=path_local+\"/Gasto_Publico_Argentino_files/Salarios_Rosario/XLSX/\"+carpeta_especifica+\"_Sueldos/salario_desarrollo_humano\"\n",
    "\n",
    "lista_secretaria=natsorted(os.listdir(path_secretaria))\n",
    "\n",
    "\n",
    "shutil.move(os.path.join(path_limpieza_secretaria,\"salario_desarrollo_humano_perfecto_0.xlsx\"),os.path.join(os.path.join(path_secretaria,lista_secretaria[0]),\"salario_desarrollo_humano_perfecto_0.xlsx\"))\n",
    "shutil.move(os.path.join(path_limpieza_secretaria,\"salario_desarrollo_humano_perfecto_1.xlsx\"),os.path.join(os.path.join(path_secretaria,lista_secretaria[1]),\"salario_desarrollo_humano_perfecto_1.xlsx\"))\n",
    "\n",
    "nombre_ultimo_archivo_secretaria=re.sub(\".xlsx\",\"\",natsorted(os.listdir(path_limpieza_secretaria))[-1])\n",
    "lista_valores=[*range(2,int(re.findall(r'\\d+',nombre_ultimo_archivo_secretaria)[0])+1)]\n",
    "\n",
    "parametro_de_referencia=0\n",
    "numero_archivo=2\n",
    "for archivo_para_localizar in natsorted(os.listdir(path_limpieza_secretaria)):\n",
    "    archivo_para_extraer_numero=re.sub(\".xlsx\",\"\",archivo_para_localizar)\n",
    "    numero=re.search(\"[0-999]\",archivo_para_extraer_numero)\n",
    "    inicio_del_numero=numero.span()[0]\n",
    "    numero_extraido=int(archivo_para_extraer_numero[inicio_del_numero:])\n",
    "    if numero_extraido == lista_valores[parametro_de_referencia]:\n",
    "        shutil.move(os.path.join(path_limpieza_secretaria,archivo_para_localizar),os.path.join(path_local+\"/Gasto_Publico_Argentino_files/Salarios_Rosario/carpeta_prueba\",archivo_para_localizar))\n",
    "    else:\n",
    "        for k in natsorted(os.listdir(path_local+\"/Gasto_Publico_Argentino_files/Salarios_Rosario/carpeta_prueba\")):\n",
    "            shutil.move(os.path.join(path_local+\"/Gasto_Publico_Argentino_files/Salarios_Rosario/carpeta_prueba\",k),os.path.join(path_secretaria,lista_secretaria[numero_archivo]))\n",
    "        numero_archivo+=1\n",
    "\n",
    "        #print(\"Aca deberia ir una funcion que mande todos los excel recogidos dentro de la carpeta\\n\")\n",
    "\n",
    "        shutil.move(os.path.join(path_limpieza_secretaria,archivo_para_localizar),os.path.join(path_local+\"/Gasto_Publico_Argentino_files/Salarios_Rosario/carpeta_prueba\",archivo_para_localizar))\n",
    "\n",
    "        parametro_de_referencia+=1\n",
    "    parametro_de_referencia+=1\n",
    "\n",
    "try:\n",
    "    lista_ultimos_archivos=natsorted(os.listdir(path_local+\"/Gasto_Publico_Argentino_files/Salarios_Rosario/carpeta_prueba\"))\n",
    "    for archivo in lista_ultimos_archivos:\n",
    "        shutil.move(os.path.join(path_local+\"/Gasto_Publico_Argentino_files/Salarios_Rosario/carpeta_prueba\",archivo),os.path.join(path_secretaria,lista_secretaria[-1]))\n",
    "except:\n",
    "    pass"
   ]
  },
  {
   "cell_type": "markdown",
   "id": "354aeade",
   "metadata": {},
   "source": [
    "# Salario Genero"
   ]
  },
  {
   "cell_type": "code",
   "execution_count": null,
   "id": "4fa8bcf7",
   "metadata": {},
   "outputs": [],
   "source": [
    "path_limpieza_secretaria=path_local+\"/Gasto_Publico_Argentino_files/Salarios_Rosario/XLSX/Excels_proceso_limpieza/salario_genero_ddhh\"\n",
    "\n",
    "path_secretaria=path_local+\"/Gasto_Publico_Argentino_files/Salarios_Rosario/XLSX/\"+carpeta_especifica+\"_Sueldos/salario_genero_ddhh\"\n",
    "\n",
    "lista_secretaria=natsorted(os.listdir(path_secretaria))\n",
    "\n",
    "shutil.move(os.path.join(path_limpieza_secretaria,\"salario_genero_ddhh_perfecto_0.xlsx\"),os.path.join(os.path.join(path_secretaria,lista_secretaria[0]),\"salario_genero_ddhh_perfecto_0.xlsx\"))\n",
    "\n",
    "nombre_ultimo_archivo_secretaria=re.sub(\".xlsx\",\"\",natsorted(os.listdir(path_limpieza_secretaria))[-1])\n",
    "lista_valores=[*range(1,int(re.findall(r'\\d+',nombre_ultimo_archivo_secretaria)[0])+1)]\n",
    "\n",
    "parametro_de_referencia=0\n",
    "numero_archivo=1\n",
    "for archivo_para_localizar in natsorted(os.listdir(path_limpieza_secretaria)):\n",
    "    archivo_para_extraer_numero=re.sub(\".xlsx\",\"\",archivo_para_localizar)\n",
    "    numero=re.search(\"[0-999]\",archivo_para_extraer_numero)\n",
    "    inicio_del_numero=numero.span()[0]\n",
    "    numero_extraido=int(archivo_para_extraer_numero[inicio_del_numero:])\n",
    "    if numero_extraido == lista_valores[parametro_de_referencia]:\n",
    "        shutil.move(os.path.join(path_limpieza_secretaria,archivo_para_localizar),os.path.join(path_local+\"/Gasto_Publico_Argentino_files/Salarios_Rosario/carpeta_prueba\",archivo_para_localizar))\n",
    "    else:\n",
    "        for k in natsorted(os.listdir(path_local+\"/Gasto_Publico_Argentino_files/Salarios_Rosario/carpeta_prueba\")):\n",
    "            shutil.move(os.path.join(path_local+\"/Gasto_Publico_Argentino_files/Salarios_Rosario/carpeta_prueba\",k),os.path.join(path_secretaria,lista_secretaria[numero_archivo]))\n",
    "        numero_archivo+=1\n",
    "\n",
    "        #print(\"Aca deberia ir una funcion que mande todos los excel recogidos dentro de la carpeta\\n\")\n",
    "\n",
    "        shutil.move(os.path.join(path_limpieza_secretaria,archivo_para_localizar),os.path.join(path_local+\"/Gasto_Publico_Argentino_files/Salarios_Rosario/carpeta_prueba\",archivo_para_localizar))\n",
    "\n",
    "        parametro_de_referencia+=1\n",
    "    parametro_de_referencia+=1\n",
    "\n",
    "try:\n",
    "    lista_ultimos_archivos=natsorted(os.listdir(path_local+\"/Gasto_Publico_Argentino_files/Salarios_Rosario/carpeta_prueba\"))\n",
    "    for archivo in lista_ultimos_archivos:\n",
    "        shutil.move(os.path.join(path_local+\"/Gasto_Publico_Argentino_files/Salarios_Rosario/carpeta_prueba\",archivo),os.path.join(path_secretaria,lista_secretaria[-1]))\n",
    "except:\n",
    "    pass"
   ]
  },
  {
   "cell_type": "markdown",
   "id": "a2ba0745",
   "metadata": {},
   "source": [
    "# Salario Gobierno"
   ]
  },
  {
   "cell_type": "code",
   "execution_count": null,
   "id": "4ea41592",
   "metadata": {},
   "outputs": [],
   "source": [
    "path_limpieza_secretaria=path_local+\"/Gasto_Publico_Argentino_files/Salarios_Rosario/XLSX/Excels_proceso_limpieza/salario_gobierno\"\n",
    "\n",
    "path_secretaria=path_local+\"/Gasto_Publico_Argentino_files/Salarios_Rosario/XLSX/\"+carpeta_especifica+\"_Sueldos/salario_gobierno\"\n",
    "\n",
    "lista_secretaria=natsorted(os.listdir(path_secretaria))\n",
    "\n",
    "shutil.move(os.path.join(path_limpieza_secretaria,\"salario_gobierno_perfecto_0.xlsx\"),os.path.join(os.path.join(path_secretaria,lista_secretaria[0]),\"salario_gobierno_perfecto_0.xlsx\"))\n",
    "shutil.move(os.path.join(path_limpieza_secretaria,\"salario_gobierno_perfecto_1.xlsx\"),os.path.join(os.path.join(path_secretaria,lista_secretaria[1]),\"salario_gobierno_perfecto_1.xlsx\"))\n",
    "\n",
    "nombre_ultimo_archivo_secretaria=re.sub(\".xlsx\",\"\",natsorted(os.listdir(path_limpieza_secretaria))[-1])\n",
    "lista_valores=[*range(2,int(re.findall(r'\\d+',nombre_ultimo_archivo_secretaria)[0])+1)]\n",
    "\n",
    "parametro_de_referencia=0\n",
    "numero_archivo=2\n",
    "for archivo_para_localizar in natsorted(os.listdir(path_limpieza_secretaria)):\n",
    "    archivo_para_extraer_numero=re.sub(\".xlsx\",\"\",archivo_para_localizar)\n",
    "    numero=re.search(\"[0-999]\",archivo_para_extraer_numero)\n",
    "    inicio_del_numero=numero.span()[0]\n",
    "    numero_extraido=int(archivo_para_extraer_numero[inicio_del_numero:])\n",
    "    if numero_extraido == lista_valores[parametro_de_referencia]:\n",
    "        shutil.move(os.path.join(path_limpieza_secretaria,archivo_para_localizar),os.path.join(path_local+\"/Gasto_Publico_Argentino_files/Salarios_Rosario/carpeta_prueba\",archivo_para_localizar))\n",
    "    else:\n",
    "        for k in natsorted(os.listdir(path_local+\"/Gasto_Publico_Argentino_files/Salarios_Rosario/carpeta_prueba\")):\n",
    "            shutil.move(os.path.join(path_local+\"/Gasto_Publico_Argentino_files/Salarios_Rosario/carpeta_prueba\",k),os.path.join(path_secretaria,lista_secretaria[numero_archivo]))\n",
    "        numero_archivo+=1\n",
    "\n",
    "        #print(\"Aca deberia ir una funcion que mande todos los excel recogidos dentro de la carpeta\\n\")\n",
    "\n",
    "        shutil.move(os.path.join(path_limpieza_secretaria,archivo_para_localizar),os.path.join(path_local+\"/Gasto_Publico_Argentino_files/Salarios_Rosario/carpeta_prueba\",archivo_para_localizar))\n",
    "\n",
    "        parametro_de_referencia+=1\n",
    "    parametro_de_referencia+=1\n",
    "\n",
    "try:\n",
    "    lista_ultimos_archivos=natsorted(os.listdir(path_local+\"/Gasto_Publico_Argentino_files/Salarios_Rosario/carpeta_prueba\"))\n",
    "    for archivo in lista_ultimos_archivos:\n",
    "        shutil.move(os.path.join(path_local+\"/Gasto_Publico_Argentino_files/Salarios_Rosario/carpeta_prueba\",archivo),os.path.join(path_secretaria,lista_secretaria[-1]))\n",
    "except:\n",
    "    pass"
   ]
  },
  {
   "cell_type": "markdown",
   "id": "0d268d0b",
   "metadata": {},
   "source": [
    "# Salario intendencia"
   ]
  },
  {
   "cell_type": "code",
   "execution_count": null,
   "id": "4abb59bf",
   "metadata": {},
   "outputs": [],
   "source": [
    "path_limpieza_secretaria=path_local+\"/Gasto_Publico_Argentino_files/Salarios_Rosario/XLSX/Excels_proceso_limpieza/salario_intendencia\"\n",
    "\n",
    "path_secretaria=path_local+\"/Gasto_Publico_Argentino_files/Salarios_Rosario/XLSX/\"+carpeta_especifica+\"_Sueldos/salario_intendencia\"\n",
    "\n",
    "lista_secretaria=natsorted(os.listdir(path_secretaria))\n",
    "\n",
    "shutil.move(os.path.join(path_limpieza_secretaria,\"salario_intendencia_perfecto_0.xlsx\"),os.path.join(os.path.join(path_secretaria,lista_secretaria[0]),\"salario_intendencia_perfecto_0.xlsx\"))\n",
    "shutil.move(os.path.join(path_limpieza_secretaria,\"salario_intendencia_perfecto_1.xlsx\"),os.path.join(os.path.join(path_secretaria,lista_secretaria[1]),\"salario_intendencia_perfecto_1.xlsx\"))\n",
    "\n",
    "nombre_ultimo_archivo_secretaria=re.sub(\".xlsx\",\"\",natsorted(os.listdir(path_limpieza_secretaria))[-1])\n",
    "lista_valores=[*range(3,int(re.findall(r'\\d+',nombre_ultimo_archivo_secretaria)[0])+1)]\n",
    "\n",
    "parametro_de_referencia=0\n",
    "numero_archivo=2\n",
    "for archivo_para_localizar in natsorted(os.listdir(path_limpieza_secretaria)):\n",
    "    archivo_para_extraer_numero=re.sub(\".xlsx\",\"\",archivo_para_localizar)\n",
    "    numero=re.search(\"[0-999]\",archivo_para_extraer_numero)\n",
    "    inicio_del_numero=numero.span()[0]\n",
    "    numero_extraido=int(archivo_para_extraer_numero[inicio_del_numero:])\n",
    "    if numero_extraido == lista_valores[parametro_de_referencia]:\n",
    "        shutil.move(os.path.join(path_limpieza_secretaria,archivo_para_localizar),os.path.join(path_local+\"/Gasto_Publico_Argentino_files/Salarios_Rosario/carpeta_prueba\",archivo_para_localizar))\n",
    "    else:\n",
    "        for k in natsorted(os.listdir(path_local+\"/Gasto_Publico_Argentino_files/Salarios_Rosario/carpeta_prueba\")):\n",
    "            shutil.move(os.path.join(path_local+\"/Gasto_Publico_Argentino_files/Salarios_Rosario/carpeta_prueba\",k),os.path.join(path_secretaria,lista_secretaria[numero_archivo]))\n",
    "        numero_archivo+=1\n",
    "\n",
    "        #print(\"Aca deberia ir una funcion que mande todos los excel recogidos dentro de la carpeta\\n\")\n",
    "\n",
    "        shutil.move(os.path.join(path_limpieza_secretaria,archivo_para_localizar),os.path.join(path_local+\"/Gasto_Publico_Argentino_files/Salarios_Rosario/carpeta_prueba\",archivo_para_localizar))\n",
    "\n",
    "        parametro_de_referencia+=1\n",
    "    parametro_de_referencia+=1\n",
    "\n",
    "try:\n",
    "    lista_ultimos_archivos=natsorted(os.listdir(path_local+\"/Gasto_Publico_Argentino_files/Salarios_Rosario/carpeta_prueba\"))\n",
    "    for archivo in lista_ultimos_archivos:\n",
    "        shutil.move(os.path.join(path_local+\"/Gasto_Publico_Argentino_files/Salarios_Rosario/carpeta_prueba\",archivo),os.path.join(path_secretaria,lista_secretaria[-1]))\n",
    "except:\n",
    "    pass"
   ]
  },
  {
   "cell_type": "markdown",
   "id": "31ab72c5",
   "metadata": {},
   "source": [
    "# Salario Planeamiento"
   ]
  },
  {
   "cell_type": "code",
   "execution_count": null,
   "id": "6d3c3a93",
   "metadata": {},
   "outputs": [],
   "source": [
    "path_limpieza_secretaria=path_local+\"/Gasto_Publico_Argentino_files/Salarios_Rosario/XLSX/Excels_proceso_limpieza/salario_planeamiento\"\n",
    "\n",
    "path_secretaria=path_local+\"/Gasto_Publico_Argentino_files/Salarios_Rosario/XLSX/\"+carpeta_especifica+\"_Sueldos/salario_planeamiento\"\n",
    "\n",
    "lista_secretaria=natsorted(os.listdir(path_secretaria))\n",
    "\n",
    "shutil.move(os.path.join(path_limpieza_secretaria,\"salario_planeamiento_perfecto_0.xlsx\"),os.path.join(os.path.join(path_secretaria,lista_secretaria[0]),\"salario_planeamiento_perfecto_0.xlsx\"))\n",
    "shutil.move(os.path.join(path_limpieza_secretaria,\"salario_planeamiento_perfecto_1.xlsx\"),os.path.join(os.path.join(path_secretaria,lista_secretaria[1]),\"salario_planeamiento_perfecto_1.xlsx\"))\n",
    "shutil.move(os.path.join(path_limpieza_secretaria,\"salario_planeamiento_perfecto_2.xlsx\"),os.path.join(os.path.join(path_secretaria,lista_secretaria[2]),\"salario_planeamiento_perfecto_2.xlsx\"))\n",
    "\n",
    "nombre_ultimo_archivo_secretaria=re.sub(\".xlsx\",\"\",natsorted(os.listdir(path_limpieza_secretaria))[-1])\n",
    "lista_valores=[*range(4,int(re.findall(r'\\d+',nombre_ultimo_archivo_secretaria)[0])+1)]\n",
    "\n",
    "# Para el caso 2020_09\n",
    "#lista_valores=[*range(3,int(re.findall(r'\\d+',nombre_ultimo_archivo_secretaria)[0])+1)]\n",
    "\n",
    "parametro_de_referencia=0\n",
    "numero_archivo=3\n",
    "\n",
    "for archivo_para_localizar in natsorted(os.listdir(path_limpieza_secretaria)):\n",
    "    archivo_para_extraer_numero=re.sub(\".xlsx\",\"\",archivo_para_localizar)\n",
    "    numero=re.search(\"[0-999]\",archivo_para_extraer_numero)\n",
    "    inicio_del_numero=numero.span()[0]\n",
    "    numero_extraido=int(archivo_para_extraer_numero[inicio_del_numero:])\n",
    "    if numero_extraido == lista_valores[parametro_de_referencia]:\n",
    "        shutil.move(os.path.join(path_limpieza_secretaria,archivo_para_localizar),os.path.join(path_local+\"/Gasto_Publico_Argentino_files/Salarios_Rosario/carpeta_prueba\",archivo_para_localizar))\n",
    "    else:\n",
    "        for k in natsorted(os.listdir(path_local+\"/Gasto_Publico_Argentino_files/Salarios_Rosario/carpeta_prueba\")):\n",
    "            shutil.move(os.path.join(path_local+\"/Gasto_Publico_Argentino_files/Salarios_Rosario/carpeta_prueba\",k),os.path.join(path_secretaria,lista_secretaria[numero_archivo]))\n",
    "        numero_archivo+=1\n",
    "\n",
    "        #print(\"Aca deberia ir una funcion que mande todos los excel recogidos dentro de la carpeta\\n\")\n",
    "\n",
    "        shutil.move(os.path.join(path_limpieza_secretaria,archivo_para_localizar),os.path.join(path_local+\"/Gasto_Publico_Argentino_files/Salarios_Rosario/carpeta_prueba\",archivo_para_localizar))\n",
    "\n",
    "        parametro_de_referencia+=1\n",
    "    parametro_de_referencia+=1\n",
    "\n",
    "try:\n",
    "    lista_ultimos_archivos=natsorted(os.listdir(path_local+\"/Gasto_Publico_Argentino_files/Salarios_Rosario/carpeta_prueba\"))\n",
    "    for archivo in lista_ultimos_archivos:\n",
    "        shutil.move(os.path.join(path_local+\"/Gasto_Publico_Argentino_files/Salarios_Rosario/carpeta_prueba\",archivo),os.path.join(path_secretaria,lista_secretaria[-1]))\n",
    "except:\n",
    "    pass"
   ]
  },
  {
   "cell_type": "markdown",
   "id": "4028931b",
   "metadata": {},
   "source": [
    "# Elimina la carpeta \"Excels_proceso_limpieza\""
   ]
  },
  {
   "cell_type": "code",
   "execution_count": null,
   "id": "b8ca763f",
   "metadata": {},
   "outputs": [],
   "source": [
    "shutil.rmtree(path_local+\"/Gasto_Publico_Argentino_files/Salarios_Rosario/XLSX/Excels_proceso_limpieza\")"
   ]
  },
  {
   "cell_type": "markdown",
   "id": "299ed2ee",
   "metadata": {},
   "source": [
    "# Creo los archivos finales"
   ]
  },
  {
   "cell_type": "code",
   "execution_count": null,
   "id": "85e77957",
   "metadata": {
    "scrolled": false
   },
   "outputs": [],
   "source": [
    "path_folder_carpeta=path_local+\"/Gasto_Publico_Argentino_files/Salarios_Rosario/XLSX/\"+carpeta_especifica+\"_Sueldos\"\n",
    "lista_secretarias=natsorted(os.listdir(path_folder_carpeta))\n",
    "path_carpeta_prueba=path_local+\"/Gasto_Publico_Argentino_files/Salarios_Rosario/carpeta_prueba\"\n",
    "for secretaria in lista_secretarias:\n",
    "    path_folder_secretaria=os.path.join(path_folder_carpeta,secretaria)\n",
    "    lista_secciones_secretaria=natsorted(os.listdir(path_folder_secretaria))\n",
    "    for seccion in lista_secciones_secretaria:\n",
    "        path_folder_secciones=os.path.join(path_folder_secretaria,seccion)\n",
    "        lista_archivos_secciones=natsorted(os.listdir(path_folder_secciones))\n",
    "        path_primer_archivo_seccion=os.path.join(path_folder_secciones, lista_archivos_secciones[0])\n",
    "        path_archivo_final=path_folder_secciones+\".xlsx\"\n",
    "\n",
    "        if len(lista_archivos_secciones) == 1:\n",
    "            shutil.move(path_primer_archivo_seccion,path_archivo_final)\n",
    "        else:\n",
    "            shutil.move(path_primer_archivo_seccion,path_carpeta_prueba)\n",
    "            for archivo in lista_archivos_secciones[1:]:\n",
    "                shutil.move(os.path.join(path_folder_secciones,archivo),path_carpeta_prueba)\n",
    "                lista_archivos_carpeta_prueba=natsorted(os.listdir(path_carpeta_prueba))\n",
    "                path_df_1=os.path.join(path_carpeta_prueba,lista_archivos_carpeta_prueba[0])\n",
    "                path_df_2=os.path.join(path_carpeta_prueba,lista_archivos_carpeta_prueba[1])\n",
    "                df_1=pd.read_excel(path_df_1)\n",
    "                df_2=pd.read_excel(path_df_2)\n",
    "                df_final=pd.concat([df_1,df_2],ignore_index=True)\n",
    "                os.remove(path_df_1)\n",
    "                os.remove(path_df_2)\n",
    "                df_final.to_excel(path_df_1,index=False,header=True)\n",
    "            path_ubicacion_archivo_final=os.path.join(path_carpeta_prueba,lista_archivos_carpeta_prueba[0])\n",
    "            shutil.move(path_ubicacion_archivo_final,path_archivo_final)"
   ]
  },
  {
   "cell_type": "markdown",
   "id": "405c925e",
   "metadata": {},
   "source": [
    "# Elimina las carpetas"
   ]
  },
  {
   "cell_type": "code",
   "execution_count": null,
   "id": "ed06ee5a",
   "metadata": {},
   "outputs": [],
   "source": [
    "for secretarias in os.listdir(path_local+\"/Gasto_Publico_Argentino_files/Salarios_Rosario/XLSX/\"+carpeta_especifica+\"_Sueldos\"):\n",
    "    for archivos_secretaria in os.listdir(os.path.join(path_local+\"/Gasto_Publico_Argentino_files/Salarios_Rosario/XLSX/\"+carpeta_especifica+\"_Sueldos\",secretarias)):\n",
    "        try:\n",
    "            os.rmdir(os.path.join(os.path.join(path_local+\"/Gasto_Publico_Argentino_files/Salarios_Rosario/XLSX/\"+carpeta_especifica+\"_Sueldos\",secretarias),archivos_secretaria))\n",
    "        except:\n",
    "            pass"
   ]
  },
  {
   "cell_type": "markdown",
   "id": "516f17ef",
   "metadata": {},
   "source": [
    "# Reviso la columna 1 de todos los excel y muevo los numeros a la segunda columna"
   ]
  },
  {
   "cell_type": "code",
   "execution_count": null,
   "id": "4b0fab7c",
   "metadata": {},
   "outputs": [],
   "source": [
    "path=path_local+\"/Gasto_Publico_Argentino_files/Salarios_Rosario/XLSX/\"+carpeta_especifica+\"_Sueldos\"\n",
    "lista_secretarias=natsorted(os.listdir(path))\n",
    "for secretaria in lista_secretarias:\n",
    "    path_secretaria=os.path.join(path,secretaria)\n",
    "    lista_archivos=natsorted(os.listdir(path_secretaria))\n",
    "    for archivo in lista_archivos:\n",
    "        path_archivo=os.path.join(path_secretaria,archivo)\n",
    "        df=pd.read_excel(path_archivo)\n",
    "        final=df.shape[0]\n",
    "        workbook= load_workbook(filename=path_archivo)\n",
    "        sheet= workbook.active\n",
    "        for fila in range(1,final+2):\n",
    "            celda=sheet.cell(row=fila, column=1).value\n",
    "            try:\n",
    "                inicio_numero=re.search(\"[0-9]\",celda).span()[0]\n",
    "                nombre=celda[:inicio_numero]\n",
    "                numero=celda[inicio_numero:]\n",
    "                sheet[\"A\"+str(k)] = nombre\n",
    "                sheet[\"B\"+str(k)] = numero\n",
    "            except:\n",
    "                pass\n",
    "        workbook.save(filename=path_archivo)"
   ]
  },
  {
   "cell_type": "markdown",
   "id": "cf5167d7",
   "metadata": {},
   "source": [
    "# Reemplazo las comas por puntos"
   ]
  },
  {
   "cell_type": "code",
   "execution_count": null,
   "id": "3f77cf6a",
   "metadata": {},
   "outputs": [],
   "source": [
    "path=path_local+\"/Gasto_Publico_Argentino_files/Salarios_Rosario/XLSX/\"+carpeta_especifica+\"_Sueldos\"\n",
    "for secretaria in natsorted(os.listdir(path)):\n",
    "    lista_secretaria=natsorted(os.listdir(os.path.join(path,secretaria)))\n",
    "    for archivo in lista_secretaria:\n",
    "        path_archivo=os.path.join(os.path.join(path,secretaria),archivo)\n",
    "        df=pd.read_excel(path_archivo)\n",
    "        final=df.shape[0]\n",
    "        workbook= load_workbook(filename=path_archivo)\n",
    "        sheet= workbook.active\n",
    "        for fila in range(1,final+2):\n",
    "            celda_1=sheet.cell(row=fila, column=2).value\n",
    "            celda_2=sheet.cell(row=fila, column=3).value\n",
    "            celda_3=sheet.cell(row=fila, column=4).value\n",
    "            try:\n",
    "                sheet[\"B\"+str(k)]=re.sub(\",\",\".\",celda_1)\n",
    "                sheet[\"C\"+str(k)]=re.sub(\",\",\".\",celda_2)\n",
    "                sheet[\"D\"+str(k)]=re.sub(\",\",\".\",celda_3)\n",
    "            except:\n",
    "                pass\n",
    "        workbook.save(filename=path_archivo)"
   ]
  },
  {
   "cell_type": "markdown",
   "id": "28463b16",
   "metadata": {},
   "source": [
    "# Esto revisa unos numeros extras que salen random luego de los 2 decimales"
   ]
  },
  {
   "cell_type": "code",
   "execution_count": null,
   "id": "50f82589",
   "metadata": {},
   "outputs": [],
   "source": [
    "path=path_local+\"/Gasto_Publico_Argentino_files/Salarios_Rosario/XLSX/\"+carpeta_especifica+\"_Sueldos\"\n",
    "lista_secretarias=natsorted(os.listdir(path))\n",
    "for columna in [2,3,4]:\n",
    "    for secretaria in lista_secretarias:\n",
    "        lista_archivos=natsorted(os.listdir(os.path.join(path,secretaria)))\n",
    "        for archivo in lista_archivos:\n",
    "            path_archivo=os.path.join(os.path.join(path,secretaria),archivo)\n",
    "            df=pd.read_excel(path_archivo)\n",
    "            final=df.shape[0]\n",
    "            workbook= load_workbook(filename=path_archivo)\n",
    "            sheet= workbook.active\n",
    "            for fila in range(1,final+2):\n",
    "                celda=str(sheet.cell(row=fila, column=columna).value)\n",
    "                if len(re.findall(\"\\.\",celda))>1:\n",
    "                    final=re.search(\"\\.\",celda).span()[1]\n",
    "                    sheet[\"B\"+str(fila)]=celda[:final+2]\n",
    "                else:\n",
    "                    pass\n",
    "            workbook.save(filename=path_archivo)"
   ]
  },
  {
   "cell_type": "markdown",
   "id": "8a37d70e",
   "metadata": {},
   "source": [
    "# Mido cuanto tardo el programa (aproximadamente)"
   ]
  },
  {
   "cell_type": "code",
   "execution_count": null,
   "id": "9df6edc3",
   "metadata": {},
   "outputs": [],
   "source": [
    "Finalizacion_programa=datetime.now()\n",
    "tiempo=Finalizacion_programa-Inicio_programa\n",
    "tiempo_medido=str(timedelta(seconds=tiempo.seconds))[2:]\n",
    "tiempo_medido"
   ]
  }
 ],
 "metadata": {
  "kernelspec": {
   "display_name": "Python 3",
   "language": "python",
   "name": "python3"
  },
  "language_info": {
   "codemirror_mode": {
    "name": "ipython",
    "version": 3
   },
   "file_extension": ".py",
   "mimetype": "text/x-python",
   "name": "python",
   "nbconvert_exporter": "python",
   "pygments_lexer": "ipython3",
   "version": "3.8.10"
  }
 },
 "nbformat": 4,
 "nbformat_minor": 5
}
